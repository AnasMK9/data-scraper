{
 "cells": [
  {
   "cell_type": "code",
   "execution_count": 7,
   "metadata": {},
   "outputs": [],
   "source": [
    "from dotenv import load_dotenv\n",
    "import os\n",
    "\n",
    "# Load environment variables from .env\n",
    "load_dotenv()\n",
    "\n",
    "# Database URL from environment\n",
    "DATABASE_URL = os.getenv('DATABASE_URL')\n"
   ]
  },
  {
   "cell_type": "code",
   "execution_count": 8,
   "metadata": {},
   "outputs": [],
   "source": [
    "import psycopg2\n",
    "\n",
    "def connect_db():\n",
    "    return psycopg2.connect(DATABASE_URL)\n"
   ]
  },
  {
   "cell_type": "code",
   "execution_count": 9,
   "metadata": {},
   "outputs": [
    {
     "data": {
      "text/plain": [
       "[]"
      ]
     },
     "execution_count": 9,
     "metadata": {},
     "output_type": "execute_result"
    }
   ],
   "source": [
    "import requests\n",
    "from bs4 import BeautifulSoup\n",
    "from datetime import datetime\n",
    "\n",
    "def scrape_glassdoor():\n",
    "    url = \"https://www.glassdoor.com/Job/jobs.htm\"\n",
    "    headers = {\"User-Agent\": \"Mozilla/5.0\"}\n",
    "    response = requests.get(url, headers=headers)\n",
    "    soup = BeautifulSoup(response.content, \"html.parser\")\n",
    "\n",
    "    jobs = soup.find_all(\"li\", class_=\"jl\")  # Replace with the actual HTML structure\n",
    "\n",
    "    job_listings = []\n",
    "    for job in jobs:\n",
    "        job_title = job.find(\"div\", class_=\"jobTitle\").text.strip()\n",
    "        company_name = job.find(\"div\", class_=\"jobEmpolyerName\").text.strip()\n",
    "        location = job.find(\"span\", class_=\"subtle loc\").text.strip()\n",
    "        date_posted = job.find(\"span\", class_=\"date\").text.strip()\n",
    "        job_description = job.find(\"div\", class_=\"job-snippet\").text.strip()\n",
    "        salary_range = job.find(\"span\", class_=\"salaryText\").text.strip() if job.find(\"span\", class_=\"salaryText\") else \"N/A\"\n",
    "        url = \"https://www.glassdoor.com\" + job.find(\"a\", class_=\"jobLink\")[\"href\"]\n",
    "\n",
    "        job_listings.append({\n",
    "            \"job_title\": job_title,\n",
    "            \"company_name\": company_name,\n",
    "            \"location\": location,\n",
    "            \"date_posted\": datetime.strptime(date_posted, \"%m/%d/%Y\").date(),  # Example date format\n",
    "            \"job_description\": job_description,\n",
    "            \"salary_range\": salary_range,\n",
    "            \"url\": url\n",
    "        })\n",
    "\n",
    "    return job_listings\n",
    "\n",
    "# Scrape jobs and display the result\n",
    "job_listings = scrape_glassdoor()\n",
    "job_listings[:3]  # Show first 3 results\n"
   ]
  },
  {
   "cell_type": "code",
   "execution_count": 10,
   "metadata": {},
   "outputs": [],
   "source": [
    "def insert_job_listing(connection, job_data):\n",
    "    cursor = connection.cursor()\n",
    "    try:\n",
    "        cursor.execute(\"\"\"\n",
    "            INSERT INTO job_listings (job_title, company_name, location, date_posted, job_description, salary_range, url)\n",
    "            VALUES (%s, %s, %s, %s, %s, %s, %s)\n",
    "            ON CONFLICT (job_title, company_name, location, date_posted) DO NOTHING;\n",
    "        \"\"\", (\n",
    "            job_data['job_title'],\n",
    "            job_data['company_name'],\n",
    "            job_data['location'],\n",
    "            job_data['date_posted'],\n",
    "            job_data['job_description'],\n",
    "            job_data['salary_range'],\n",
    "            job_data['url']\n",
    "        ))\n",
    "        connection.commit()\n",
    "    except Exception as e:\n",
    "        print(f\"Error inserting data: {e}\")\n",
    "    finally:\n",
    "        cursor.close()\n",
    "\n",
    "# Insert scraped jobs into the database\n",
    "connection = connect_db()\n",
    "for job in job_listings:\n",
    "    insert_job_listing(connection, job)\n",
    "connection.close()\n"
   ]
  }
 ],
 "metadata": {
  "kernelspec": {
   "display_name": "webscraper",
   "language": "python",
   "name": "python3"
  },
  "language_info": {
   "codemirror_mode": {
    "name": "ipython",
    "version": 3
   },
   "file_extension": ".py",
   "mimetype": "text/x-python",
   "name": "python",
   "nbconvert_exporter": "python",
   "pygments_lexer": "ipython3",
   "version": "3.12.4"
  }
 },
 "nbformat": 4,
 "nbformat_minor": 2
}
